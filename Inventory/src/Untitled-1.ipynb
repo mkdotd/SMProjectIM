{
 "cells": [
  {
   "cell_type": "code",
   "execution_count": null,
   "metadata": {},
   "outputs": [
    {
     "name": "stdout",
     "output_type": "stream",
     "text": [
      "\"As a software developer, you can share your project files for code analysis in several ways. Here are some common methods:\\n\\n1. **GitHub/GitLab/Bitbucket Repositories:**\\n   - Create a repository on GitHub, GitLab, or Bitbucket.\\n   - Push your project files to the repository.\\n   - Share the repository link with me.\\n\\n2. **Cloud Storage Services:**\\n   - Upload your project files to a cloud storage service like Google Drive, Dropbox, or OneDrive.\\n   - Share the file or folder link with me.\\n\\n3. **Zip Files via Email:**\\n   - Compress your project files into a zip archive.\\n   - Send the zip file to my email address (if provided).\\n\\n4. **Collaboration Tools:**\\n   - Use collaboration tools like Slack, Microsoft Teams, or Discord.\\n   - Share the files directly through the tool or share a link to the files.\\n\\n5. **Code Snippets:**\\n   - If you have specific parts of the code you want analyzed, you can share code snippets directly in your message.\\n\\n6. **Version Control Systems:**\\n   - If you are using a version control system, you can share a specific commit or branch for analysis.\\n\\nPlease ensure that you have the necessary permissions to share the code, especially if it contains sensitive information or is part of a proprietary project. If you have any specific concerns about sharing your code, feel free to ask for guidance.\"\n"
     ]
    }
   ],
   "source": [
    "from huggingface_hub import InferenceClient\n",
    "import json\n",
    "\n",
    "client = InferenceClient(\n",
    "    provider=\"sambanova\",\n",
    "    api_key=\"\",\n",
    ")\n",
    "\n",
    "# messages = [\n",
    "\t\n",
    "#       {\"role\": \"system\", \"content\": \"Do not provide explanation. Give me only the test code.\"},\n",
    "#        {\"role\": \"user\",\n",
    "#        \"content\": \"I am a software developer.  Can you create Junit tests for the following code ? package com.inventory;\\n\\nimport java.util.Scanner;\\n\\npublic class AddProduct {\\n    private final InventoryManager inventoryManager;\\n\\n    public AddProduct(InventoryManager inventoryManager) {\\n        this.inventoryManager = inventoryManager;\\n    }\\n\\n    public void execute() {\\n        Scanner scanner = new Scanner(System.in);\\n        System.out.print(\\\"Enter Product ID: \\\");\\n        int id = scanner.nextInt();\\n        scanner.nextLine();\\n        while(inventoryManager.findProductById(id) != null) {\\n            System.out.print(\\\"Product already exists. Please choose another product ID: \\\");\\n            id = scanner.nextInt();\\n            scanner.nextLine();\\n        }\\n        System.out.print(\\\"Enter Product Name: \\\");\\n        String name = scanner.nextLine();\\n        while(inventoryManager.findProductByName(name) != null) {\\n            System.out.print(\\\"Product Name already exists. Please choose another product Name: \\\");\\n            name = scanner.nextLine();\\n        }\\n        System.out.print(\\\"Enter Quantity: \\\");\\n        int quantity = scanner.nextInt();\\n        System.out.print(\\\"Enter Price: \\\");\\n        double price = scanner.nextDouble();\\n        inventoryManager.addProduct(new Product(id, name, quantity, price));\\n        System.out.println(\\\"Product added successfully.\\\");\\n    }\\n}\\n\"\n",
    "#      }\n",
    "# ]\n",
    "messages = [\n",
    "       {\"role\": \"user\",\n",
    "       \"content\": \"I am a software developer. How do I send you my project files for code analysis?\"\n",
    "     }\n",
    "]\n",
    "\n",
    "completion = client.chat.completions.create(\n",
    "    model=\"Qwen/Qwen2.5-Coder-32B-Instruct\", \n",
    "\tmessages=messages\n",
    ")\n",
    "\n",
    "# print(completion.choices[0].message)\n",
    "print(json.dumps(completion.choices[0].message.content, indent=4))\n"
   ]
  },
  {
   "cell_type": "code",
   "execution_count": null,
   "metadata": {},
   "outputs": [
    {
     "name": "stdout",
     "output_type": "stream",
     "text": [
      "\"import static org.mockito.ArgumentMatchers.anyInt;\\nimport static org.mockito.ArgumentMatchers.anyString;\\nimport static org.mockito.Mockito.*;\\nimport static org.junit.jupiter.api.Assertions.*;\\n\\nimport java.io.ByteArrayInputStream;\\nimport java.io.ByteArrayOutputStream;\\nimport java.io.PrintStream;\\n\\nimport org.junit.jupiter.api.AfterEach;\\nimport org.junit.jupiter.api.BeforeEach;\\nimport org.junit.jupiter.api.Test;\\nimport org.mockito.ArgumentMatcher;\\nimport org.mockito.Mockito;\\n\\npublic class AddProductTest {\\n\\n    private InventoryManager mockInventory;\\n    private AddProduct addProduct;\\n    private ByteArrayOutputStream outContent;\\n    private ByteArrayInputStream inContent;\\n    private PrintStream originalOut;\\n    private PrintStream originalIn;\\n\\n    @BeforeEach\\n    void setUp() {\\n        mockInventory = Mockito.mock(InventoryManager.class);\\n        addProduct = new AddProduct(mockInventory);\\n        originalOut = System.out;\\n        originalIn = (PrintStream) System.in;\\n        outContent = new ByteArrayOutputStream();\\n        System.setOut(new PrintStream(outContent));\\n    }\\n\\n    @AfterEach\\n    void tearDown() {\\n        System.setOut(originalOut);\\n        System.setIn(originalIn);\\n    }\\n\\n    @Test\\n    void testAddProduct_Success() {\\n        when(mockInventory.findProductById(anyInt())).thenReturn(null);\\n        when(mockInventory.findProductByName(anyString())).thenReturn(null);\\n\\n        inContent = new ByteArrayInputStream(\\\"1\\\\nApple\\\\n10\\\\n0.99\\\\n\\\".getBytes());\\n        System.setIn(inContent);\\n\\n        addProduct.execute();\\n\\n        verify(mockInventory).addProduct(argThat(new ArgumentMatcher<Product>() {\\n            @Override\\n            public boolean matches(Product product) {\\n                return product.getId() == 1 && product.getName().equals(\\\"Apple\\\") && product.getQuantity() == 10 && product.getPrice() == 0.99;\\n            }\\n        }));\\n        assertTrue(outContent.toString().contains(\\\"Product added successfully.\\\"));\\n    }\\n\\n    @Test\\n    void testAddProduct_ExistingId() {\\n        when(mockInventory.findProductById(1)).thenReturn(new Product(1, \\\"Existing\\\", 5, 2.99));\\n        when(mockInventory.findProductById(2)).thenReturn(null);\\n        when(mockInventory.findProductByName(anyString())).thenReturn(null);\\n\\n        inContent = new ByteArrayInputStream(\\\"1\\\\n2\\\\nBanana\\\\n20\\\\n1.99\\\\n\\\".getBytes());\\n        System.setIn(inContent);\\n\\n        addProduct.execute();\\n\\n        verify(mockInventory, times(1)).findProductById(1);\\n        verify(mockInventory, times(1)).findProductById(2);\\n        verify(mockInventory).addProduct(argThat(new ArgumentMatcher<Product>() {\\n            @Override\\n            public boolean matches(Product product) {\\n                return product.getId() == 2 && product.getName().equals(\\\"Banana\\\") && product.getQuantity() == 20 && product.getPrice() == 1.99;\\n            }\\n        }));\\n        assertTrue(outContent.toString().contains(\\\"Product already exists.\\\"));\\n        assertTrue(outContent.toString().contains(\\\"Product added successfully.\\\"));\\n    }\\n\\n    @Test\\n    void testAddProduct_ExistingName() {\\n        when(mockInventory.findProductById(anyInt())).thenReturn(null);\\n        when(mockInventory.findProductByName(\\\"Apple\\\")).thenReturn(new Product(1, \\\"Apple\\\", 5, 2.99));\\n        when(mockInventory.findProductByName(\\\"Orange\\\")).thenReturn(null);\\n\\n        inContent = new ByteArrayInputStream(\\\"3\\\\nApple\\\\nOrange\\\\n15\\\\n0.5\\\\n\\\".getBytes());\\n        System.setIn(inContent);\\n\\n        addProduct.execute();\\n\\n        verify(mockInventory, times(1)).findProductByName(\\\"Apple\\\");\\n        verify(mockInventory, times(1)).findProductByName(\\\"Orange\\\");\\n        verify(mockInventory).addProduct(argThat(new ArgumentMatcher<Product>() {\\n            @Override\\n            public boolean matches(Product product) {\\n                return product.getName().equals(\\\"Orange\\\") && product.getQuantity() == 15 && product.getPrice() == 0.5;\\n            }\\n        }));\\n        assertTrue(outContent.toString().contains(\\\"Product Name already exists.\\\"));\\n        assertTrue(outContent.toString().contains(\\\"Product added successfully.\\\"));\\n    }\\n}\"\n"
     ]
    }
   ],
   "source": []
  }
 ],
 "metadata": {
  "kernelspec": {
   "display_name": "Python 3",
   "language": "python",
   "name": "python3"
  },
  "language_info": {
   "codemirror_mode": {
    "name": "ipython",
    "version": 3
   },
   "file_extension": ".py",
   "mimetype": "text/x-python",
   "name": "python",
   "nbconvert_exporter": "python",
   "pygments_lexer": "ipython3",
   "version": "3.13.2"
  }
 },
 "nbformat": 4,
 "nbformat_minor": 2
}
